{
 "cells": [
  {
   "cell_type": "code",
   "execution_count": 1,
   "id": "8d1ab190",
   "metadata": {},
   "outputs": [],
   "source": [
    "import h5py\n",
    "import numpy as np\n",
    "import os \n",
    "import pandas as pd \n",
    "import json\n",
    "import glob \n",
    "from pathlib import Path\n",
    "import matplotlib.pyplot as plt\n",
    "import math\n",
    "from scipy.optimize import least_squares\n",
    "\n",
    "from datetime import datetime\n",
    "import shutil\n"
   ]
  },
  {
   "cell_type": "code",
   "execution_count": 2,
   "id": "b2a0ed6b",
   "metadata": {},
   "outputs": [],
   "source": [
    "\n",
    "### this cell generates all of the filepaths \n",
    "\n",
    "## change here \n",
    "base_folder =  \"/ceph/behrens/mingyu_zhu/vHPC_mPFC\"\n",
    "\n",
    "behaviour_folder = f\"{base_folder}/data/raw_data/behaviour\"\n",
    "roi_folder = f\"{base_folder}/data/preprocessed_data/SLEAP_ROIs\"\n",
    "sleap_folder = f\"{base_folder}/data/preprocessed_data/SLEAP\"\n",
    "preprocessing_params_folder = f\"{base_folder}/code/preprocessing/params\"\n",
    "maze_params_folder = f\"{preprocessing_params_folder}/maze_params\"\n",
    "metadata_folder = f\"{base_folder}/data/raw_data/metadata\"\n",
    "maze_params_folder = f\"{base_folder}/code/preprocessing_maze_registration/maze_params\"\n"
   ]
  },
  {
   "cell_type": "code",
   "execution_count": 8,
   "id": "948bed4a",
   "metadata": {},
   "outputs": [
    {
     "name": "stdout",
     "output_type": "stream",
     "text": [
      "mz10_pinstate_2024-10-23-172819_original.csv\n",
      "mz07_pinstate_2024-10-22-142824_original.csv\n",
      "mz09_pinstate_2024-11-11-093452_original.csv\n",
      "mz05_pinstate_2024-10-23-172819_original.csv\n",
      "mz07_pinstate_2024-11-11-093452_original.csv\n",
      "mz07_pinstate_2024-10-23-164824_original.csv\n",
      "mz06_pinstate_2024-10-22-142824_original.csv\n",
      "mz06_pinstate_2024-10-23-164824_original.csv\n"
     ]
    }
   ],
   "source": [
    "### find the files to read from, you should have identified the odd files and RENAME them by adding \"_original\" to the end of the filename \n",
    "\n",
    "for filename in os.listdir(behaviour_folder):\n",
    "    if '_original.csv' in filename:\n",
    "        print(f\"{filename}\")\n"
   ]
  },
  {
   "cell_type": "code",
   "execution_count": 15,
   "id": "6d620e41",
   "metadata": {},
   "outputs": [
    {
     "name": "stdout",
     "output_type": "stream",
     "text": [
      "splitting session 2024-11-11-093452_original into 2024-11-11-093452 and 2024-11-11-093620\n",
      "pinstate length before splitting: 78496; after splitting: 78496\n",
      "roi length before splitting: 78496; after splitting: 78496\n"
     ]
    }
   ],
   "source": [
    "## option for spliting tracking data (.h5 file and roi file) into two \n",
    "#### this is needed if forgot to reclick camera recording when stopping pycontrol and ephys \n",
    "\n",
    "### manually put in the things that would need to be filled in: \n",
    "mouseID = 'mz09'\n",
    "err_pinstate_id = '2024-11-11-093452_original' ### the original pinstate file \n",
    "target_pinstate_id = [ '2024-11-11-093452',  '2024-11-11-093620'] ### the two new pinstate handler -- the second one should start before the pycontrol/ephys recording for the next session.\n",
    "\n",
    "### things that probably don't need change\n",
    "target_node = 'head_back'\n",
    "fmt = '%H%M%S'\n",
    "samp_freq_vid = 60 \n",
    "\n",
    "## find the files to read from \n",
    "err_sleap_fp = glob.glob(f\"{sleap_folder}/*{mouseID}_{err_pinstate_id}*\")[0]\n",
    "err_roi_fp = glob.glob(f\"{roi_folder}/*{mouseID}_{err_pinstate_id}*\")[0]\n",
    "err_pinstate_fp = f\"{behaviour_folder}/{mouseID}_pinstate_{err_pinstate_id}.csv\"\n",
    "\n",
    "### the new filepaths for the split pinstate, sleap, and roi files in list [fp1, fp2]\n",
    "output_pinstate_fp = [f\"{behaviour_folder}/{mouseID}_pinstate_{target_pinstate_id[0]}.csv\",f\"{behaviour_folder}/{mouseID}_pinstate_{target_pinstate_id[1]}.csv\"]\n",
    "output_sleap_fp = [f\"{sleap_folder}/{mouseID}_{target_pinstate_id[0]}.predicted_.h5\",f\"{sleap_folder}/{mouseID}_{target_pinstate_id[1]}.predicted_.h5\"]\n",
    "output_roi_fp = [f\"{roi_folder}/{mouseID}_{target_pinstate_id[0]}.csv\",f\"{roi_folder}/{mouseID}_{target_pinstate_id[1]}.csv\"]\n",
    "\n",
    "\n",
    "err_pinstate = pd.read_csv(err_pinstate_fp,header=None)\n",
    "err_roi =  pd.read_csv(err_roi_fp)\n",
    "\n",
    "shutil.copyfile(err_sleap_fp, output_sleap_fp[0])\n",
    "shutil.copyfile(err_sleap_fp, output_sleap_fp[1])\n",
    "\n",
    "length_diff = samp_freq_vid*int((datetime.strptime(target_pinstate_id[1].split('-')[-1],fmt) - datetime.strptime(target_pinstate_id[0].split('-')[-1],fmt)).total_seconds())\n",
    "\n",
    "with h5py.File(output_sleap_fp[0], 'r+') as f:\n",
    "    data = f['tracks'][:,:,:,:length_diff] \n",
    "    del f['tracks'] \n",
    "    f.create_dataset('tracks', data=data) \n",
    "with h5py.File(output_sleap_fp[1], 'r+') as f:\n",
    "    data = f['tracks'][:,:,:,length_diff:] \n",
    "    del f['tracks'] \n",
    "    f.create_dataset('tracks', data=data) \n",
    "\n",
    "output_pinstate_file_1 = err_pinstate[:length_diff]\n",
    "output_pinstate_file_2 = err_pinstate[length_diff:]\n",
    "output_pinstate_file_1.to_csv(output_pinstate_fp[0], index = False, header = None)\n",
    "output_pinstate_file_2.to_csv(output_pinstate_fp[1], index = False, header = None)\n",
    "\n",
    "output_roi_file_1 = err_roi[:length_diff]\n",
    "output_roi_file_2 = err_roi[length_diff:]\n",
    "output_roi_file_1.to_csv(output_roi_fp[0])\n",
    "output_roi_file_2.to_csv(output_roi_fp[1])\n",
    "\n",
    "\n",
    "### checking output \n",
    "print(f\"splitting session {err_pinstate_id} into {target_pinstate_id[0]} and {target_pinstate_id[1]}\")\n",
    "print(f\"pinstate length before splitting: {len(err_pinstate)}; after splitting: {len(output_pinstate_file_1) + len(output_pinstate_file_2)}\")\n",
    "print(f\"roi length before splitting: {len(err_roi)}; after splitting: {len(output_roi_file_2) + len(output_roi_file_1)}\")\n"
   ]
  },
  {
   "cell_type": "code",
   "execution_count": null,
   "id": "5094a8c6",
   "metadata": {},
   "outputs": [],
   "source": []
  }
 ],
 "metadata": {
  "kernelspec": {
   "display_name": "Python 3 (ipykernel)",
   "language": "python",
   "name": "python3"
  },
  "language_info": {
   "codemirror_mode": {
    "name": "ipython",
    "version": 3
   },
   "file_extension": ".py",
   "mimetype": "text/x-python",
   "name": "python",
   "nbconvert_exporter": "python",
   "pygments_lexer": "ipython3",
   "version": "3.12.7"
  }
 },
 "nbformat": 4,
 "nbformat_minor": 5
}
